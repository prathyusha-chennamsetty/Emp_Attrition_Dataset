{
 "cells": [
  {
   "cell_type": "code",
   "execution_count": 1,
   "id": "59098c05",
   "metadata": {
    "ExecuteTime": {
     "end_time": "2024-03-09T15:19:10.887422Z",
     "start_time": "2024-03-09T15:19:08.859040Z"
    }
   },
   "outputs": [],
   "source": [
    "import pandas as pd\n",
    "import numpy as np\n",
    "import matplotlib.pyplot as plt\n",
    "import seaborn as sns"
   ]
  },
  {
   "cell_type": "code",
   "execution_count": 2,
   "id": "3bd05df5",
   "metadata": {
    "ExecuteTime": {
     "end_time": "2024-03-09T15:19:12.056789Z",
     "start_time": "2024-03-09T15:19:11.945248Z"
    }
   },
   "outputs": [
    {
     "data": {
      "text/html": [
       "<div>\n",
       "<style scoped>\n",
       "    .dataframe tbody tr th:only-of-type {\n",
       "        vertical-align: middle;\n",
       "    }\n",
       "\n",
       "    .dataframe tbody tr th {\n",
       "        vertical-align: top;\n",
       "    }\n",
       "\n",
       "    .dataframe thead th {\n",
       "        text-align: right;\n",
       "    }\n",
       "</style>\n",
       "<table border=\"1\" class=\"dataframe\">\n",
       "  <thead>\n",
       "    <tr style=\"text-align: right;\">\n",
       "      <th></th>\n",
       "      <th>Age</th>\n",
       "      <th>BusinessTravel</th>\n",
       "      <th>Department</th>\n",
       "      <th>DistanceFromHome</th>\n",
       "      <th>EducationField</th>\n",
       "      <th>EnvironmentSatisfaction</th>\n",
       "      <th>Gender</th>\n",
       "      <th>JobInvolvement</th>\n",
       "      <th>JobLevel</th>\n",
       "      <th>JobRole</th>\n",
       "      <th>JobSatisfaction</th>\n",
       "      <th>NumCompaniesWorked</th>\n",
       "      <th>Date</th>\n",
       "      <th>OverTime</th>\n",
       "      <th>PercentSalaryHike</th>\n",
       "      <th>PerformanceRating</th>\n",
       "      <th>YearsAtCompany</th>\n",
       "      <th>MonthlyIncome</th>\n",
       "      <th>Attrition</th>\n",
       "    </tr>\n",
       "  </thead>\n",
       "  <tbody>\n",
       "    <tr>\n",
       "      <th>0</th>\n",
       "      <td>33.0</td>\n",
       "      <td>Travel_Frequently</td>\n",
       "      <td>Research &amp; Development</td>\n",
       "      <td>3</td>\n",
       "      <td>Life Sciences</td>\n",
       "      <td>1</td>\n",
       "      <td>Male</td>\n",
       "      <td>3.0</td>\n",
       "      <td>1.0</td>\n",
       "      <td>Research Scientist</td>\n",
       "      <td>1.0</td>\n",
       "      <td>1</td>\n",
       "      <td>7/25/2016 19:04</td>\n",
       "      <td>Yes</td>\n",
       "      <td>11</td>\n",
       "      <td>3</td>\n",
       "      <td>10.0</td>\n",
       "      <td>3348</td>\n",
       "      <td>Yes</td>\n",
       "    </tr>\n",
       "    <tr>\n",
       "      <th>1</th>\n",
       "      <td>32.0</td>\n",
       "      <td>Travel_Rarely</td>\n",
       "      <td>Sales</td>\n",
       "      <td>4</td>\n",
       "      <td>Medical</td>\n",
       "      <td>4</td>\n",
       "      <td>Male</td>\n",
       "      <td>1.0</td>\n",
       "      <td>3.0</td>\n",
       "      <td>Sales Executive</td>\n",
       "      <td>4.0</td>\n",
       "      <td>1</td>\n",
       "      <td>8/21/2011 16:29</td>\n",
       "      <td>No</td>\n",
       "      <td>11</td>\n",
       "      <td>3</td>\n",
       "      <td>14.0</td>\n",
       "      <td>10400</td>\n",
       "      <td>Yes</td>\n",
       "    </tr>\n",
       "    <tr>\n",
       "      <th>2</th>\n",
       "      <td>40.0</td>\n",
       "      <td>Travel_Rarely</td>\n",
       "      <td>Research &amp; Development</td>\n",
       "      <td>9</td>\n",
       "      <td>Life Sciences</td>\n",
       "      <td>4</td>\n",
       "      <td>Male</td>\n",
       "      <td>3.0</td>\n",
       "      <td>1.0</td>\n",
       "      <td>Laboratory Technician</td>\n",
       "      <td>1.0</td>\n",
       "      <td>3</td>\n",
       "      <td>9/22/2010 6:12</td>\n",
       "      <td>No</td>\n",
       "      <td>14</td>\n",
       "      <td>3</td>\n",
       "      <td>5.0</td>\n",
       "      <td>2018</td>\n",
       "      <td>Yes</td>\n",
       "    </tr>\n",
       "    <tr>\n",
       "      <th>3</th>\n",
       "      <td>42.0</td>\n",
       "      <td>Travel_Rarely</td>\n",
       "      <td>Research &amp; Development</td>\n",
       "      <td>7</td>\n",
       "      <td>Medical</td>\n",
       "      <td>2</td>\n",
       "      <td>Female</td>\n",
       "      <td>4.0</td>\n",
       "      <td>2.0</td>\n",
       "      <td>Research Scientist</td>\n",
       "      <td>2.0</td>\n",
       "      <td>6</td>\n",
       "      <td>11/18/2014 11:17</td>\n",
       "      <td>Yes</td>\n",
       "      <td>16</td>\n",
       "      <td>3</td>\n",
       "      <td>1.0</td>\n",
       "      <td>2372</td>\n",
       "      <td>No</td>\n",
       "    </tr>\n",
       "    <tr>\n",
       "      <th>4</th>\n",
       "      <td>43.0</td>\n",
       "      <td>Travel_Frequently</td>\n",
       "      <td>Research &amp; Development</td>\n",
       "      <td>27</td>\n",
       "      <td>Life Sciences</td>\n",
       "      <td>3</td>\n",
       "      <td>Female</td>\n",
       "      <td>3.0</td>\n",
       "      <td>3.0</td>\n",
       "      <td>Manufacturing Director</td>\n",
       "      <td>1.0</td>\n",
       "      <td>8</td>\n",
       "      <td>03-09-2011 11:58</td>\n",
       "      <td>No</td>\n",
       "      <td>11</td>\n",
       "      <td>3</td>\n",
       "      <td>8.0</td>\n",
       "      <td>10820</td>\n",
       "      <td>No</td>\n",
       "    </tr>\n",
       "    <tr>\n",
       "      <th>...</th>\n",
       "      <td>...</td>\n",
       "      <td>...</td>\n",
       "      <td>...</td>\n",
       "      <td>...</td>\n",
       "      <td>...</td>\n",
       "      <td>...</td>\n",
       "      <td>...</td>\n",
       "      <td>...</td>\n",
       "      <td>...</td>\n",
       "      <td>...</td>\n",
       "      <td>...</td>\n",
       "      <td>...</td>\n",
       "      <td>...</td>\n",
       "      <td>...</td>\n",
       "      <td>...</td>\n",
       "      <td>...</td>\n",
       "      <td>...</td>\n",
       "      <td>...</td>\n",
       "      <td>...</td>\n",
       "    </tr>\n",
       "    <tr>\n",
       "      <th>21376</th>\n",
       "      <td>15.0</td>\n",
       "      <td>Travel_Frequently</td>\n",
       "      <td>Research &amp; Development</td>\n",
       "      <td>27</td>\n",
       "      <td>Life Sciences</td>\n",
       "      <td>3</td>\n",
       "      <td>Female</td>\n",
       "      <td>2.0</td>\n",
       "      <td>2.0</td>\n",
       "      <td>Research Scientist</td>\n",
       "      <td>3.0</td>\n",
       "      <td>2</td>\n",
       "      <td>1/20/2014 20:49</td>\n",
       "      <td>No</td>\n",
       "      <td>8</td>\n",
       "      <td>2</td>\n",
       "      <td>10.0</td>\n",
       "      <td>14708</td>\n",
       "      <td>No</td>\n",
       "    </tr>\n",
       "    <tr>\n",
       "      <th>21377</th>\n",
       "      <td>5.0</td>\n",
       "      <td>Travel_Frequently</td>\n",
       "      <td>Sales</td>\n",
       "      <td>14</td>\n",
       "      <td>Marketing</td>\n",
       "      <td>3</td>\n",
       "      <td>Male</td>\n",
       "      <td>2.0</td>\n",
       "      <td>2.0</td>\n",
       "      <td>Human Resources</td>\n",
       "      <td>1.0</td>\n",
       "      <td>4</td>\n",
       "      <td>5/25/2016 22:09</td>\n",
       "      <td>Yes</td>\n",
       "      <td>10</td>\n",
       "      <td>1</td>\n",
       "      <td>6.0</td>\n",
       "      <td>6635</td>\n",
       "      <td>No</td>\n",
       "    </tr>\n",
       "    <tr>\n",
       "      <th>21378</th>\n",
       "      <td>56.0</td>\n",
       "      <td>Non-Travel</td>\n",
       "      <td>Research &amp; Development</td>\n",
       "      <td>1</td>\n",
       "      <td>Marketing</td>\n",
       "      <td>2</td>\n",
       "      <td>Male</td>\n",
       "      <td>3.0</td>\n",
       "      <td>2.0</td>\n",
       "      <td>Sales Representative</td>\n",
       "      <td>1.0</td>\n",
       "      <td>1</td>\n",
       "      <td>8/19/2016 16:39</td>\n",
       "      <td>Yes</td>\n",
       "      <td>3</td>\n",
       "      <td>1</td>\n",
       "      <td>12.0</td>\n",
       "      <td>3491</td>\n",
       "      <td>No</td>\n",
       "    </tr>\n",
       "    <tr>\n",
       "      <th>21379</th>\n",
       "      <td>23.0</td>\n",
       "      <td>Travel_Frequently</td>\n",
       "      <td>Sales</td>\n",
       "      <td>9</td>\n",
       "      <td>Marketing</td>\n",
       "      <td>4</td>\n",
       "      <td>Male</td>\n",
       "      <td>3.0</td>\n",
       "      <td>1.0</td>\n",
       "      <td>Sales Representative</td>\n",
       "      <td>1.0</td>\n",
       "      <td>1</td>\n",
       "      <td>10-07-2015 10:40</td>\n",
       "      <td>No</td>\n",
       "      <td>19</td>\n",
       "      <td>3</td>\n",
       "      <td>1.0</td>\n",
       "      <td>1790</td>\n",
       "      <td>Yes</td>\n",
       "    </tr>\n",
       "    <tr>\n",
       "      <th>21380</th>\n",
       "      <td>25.0</td>\n",
       "      <td>Travel_Frequently</td>\n",
       "      <td>Human Resources</td>\n",
       "      <td>5</td>\n",
       "      <td>Technical Degree</td>\n",
       "      <td>1</td>\n",
       "      <td>Male</td>\n",
       "      <td>2.0</td>\n",
       "      <td>2.0</td>\n",
       "      <td>Manufacturing Director</td>\n",
       "      <td>3.0</td>\n",
       "      <td>1</td>\n",
       "      <td>11-07-2018 01:03</td>\n",
       "      <td>No</td>\n",
       "      <td>6</td>\n",
       "      <td>2</td>\n",
       "      <td>11.0</td>\n",
       "      <td>6775</td>\n",
       "      <td>Yes</td>\n",
       "    </tr>\n",
       "  </tbody>\n",
       "</table>\n",
       "<p>21381 rows × 19 columns</p>\n",
       "</div>"
      ],
      "text/plain": [
       "        Age     BusinessTravel              Department DistanceFromHome  \\\n",
       "0      33.0  Travel_Frequently  Research & Development                3   \n",
       "1      32.0      Travel_Rarely                   Sales                4   \n",
       "2      40.0      Travel_Rarely  Research & Development                9   \n",
       "3      42.0      Travel_Rarely  Research & Development                7   \n",
       "4      43.0  Travel_Frequently  Research & Development               27   \n",
       "...     ...                ...                     ...              ...   \n",
       "21376  15.0  Travel_Frequently  Research & Development               27   \n",
       "21377   5.0  Travel_Frequently                   Sales               14   \n",
       "21378  56.0         Non-Travel  Research & Development                1   \n",
       "21379  23.0  Travel_Frequently                   Sales                9   \n",
       "21380  25.0  Travel_Frequently         Human Resources                5   \n",
       "\n",
       "         EducationField EnvironmentSatisfaction  Gender  JobInvolvement  \\\n",
       "0         Life Sciences                       1    Male             3.0   \n",
       "1               Medical                       4    Male             1.0   \n",
       "2         Life Sciences                       4    Male             3.0   \n",
       "3               Medical                       2  Female             4.0   \n",
       "4         Life Sciences                       3  Female             3.0   \n",
       "...                 ...                     ...     ...             ...   \n",
       "21376     Life Sciences                       3  Female             2.0   \n",
       "21377         Marketing                       3    Male             2.0   \n",
       "21378         Marketing                       2    Male             3.0   \n",
       "21379         Marketing                       4    Male             3.0   \n",
       "21380  Technical Degree                       1    Male             2.0   \n",
       "\n",
       "       JobLevel                 JobRole  JobSatisfaction NumCompaniesWorked  \\\n",
       "0           1.0      Research Scientist              1.0                  1   \n",
       "1           3.0         Sales Executive              4.0                  1   \n",
       "2           1.0   Laboratory Technician              1.0                  3   \n",
       "3           2.0      Research Scientist              2.0                  6   \n",
       "4           3.0  Manufacturing Director              1.0                  8   \n",
       "...         ...                     ...              ...                ...   \n",
       "21376       2.0      Research Scientist              3.0                  2   \n",
       "21377       2.0         Human Resources              1.0                  4   \n",
       "21378       2.0    Sales Representative              1.0                  1   \n",
       "21379       1.0    Sales Representative              1.0                  1   \n",
       "21380       2.0  Manufacturing Director              3.0                  1   \n",
       "\n",
       "                   Date OverTime PercentSalaryHike PerformanceRating  \\\n",
       "0       7/25/2016 19:04      Yes                11                 3   \n",
       "1       8/21/2011 16:29       No                11                 3   \n",
       "2        9/22/2010 6:12       No                14                 3   \n",
       "3      11/18/2014 11:17      Yes                16                 3   \n",
       "4      03-09-2011 11:58       No                11                 3   \n",
       "...                 ...      ...               ...               ...   \n",
       "21376   1/20/2014 20:49       No                 8                 2   \n",
       "21377   5/25/2016 22:09      Yes                10                 1   \n",
       "21378   8/19/2016 16:39      Yes                 3                 1   \n",
       "21379  10-07-2015 10:40       No                19                 3   \n",
       "21380  11-07-2018 01:03       No                 6                 2   \n",
       "\n",
       "       YearsAtCompany MonthlyIncome Attrition  \n",
       "0                10.0          3348       Yes  \n",
       "1                14.0         10400       Yes  \n",
       "2                 5.0          2018       Yes  \n",
       "3                 1.0          2372        No  \n",
       "4                 8.0         10820        No  \n",
       "...               ...           ...       ...  \n",
       "21376            10.0         14708        No  \n",
       "21377             6.0          6635        No  \n",
       "21378            12.0          3491        No  \n",
       "21379             1.0          1790       Yes  \n",
       "21380            11.0          6775       Yes  \n",
       "\n",
       "[21381 rows x 19 columns]"
      ]
     },
     "execution_count": 2,
     "metadata": {},
     "output_type": "execute_result"
    }
   ],
   "source": [
    "df = pd.read_csv(\"emp_attrition.csv\")\n",
    "df"
   ]
  },
  {
   "cell_type": "code",
   "execution_count": 3,
   "id": "1218bfb5",
   "metadata": {
    "ExecuteTime": {
     "end_time": "2024-03-09T15:19:12.816441Z",
     "start_time": "2024-03-09T15:19:12.753839Z"
    }
   },
   "outputs": [
    {
     "name": "stdout",
     "output_type": "stream",
     "text": [
      "<class 'pandas.core.frame.DataFrame'>\n",
      "RangeIndex: 21381 entries, 0 to 21380\n",
      "Data columns (total 19 columns):\n",
      " #   Column                   Non-Null Count  Dtype  \n",
      "---  ------                   --------------  -----  \n",
      " 0   Age                      21355 non-null  float64\n",
      " 1   BusinessTravel           21347 non-null  object \n",
      " 2   Department               21339 non-null  object \n",
      " 3   DistanceFromHome         21334 non-null  object \n",
      " 4   EducationField           21353 non-null  object \n",
      " 5   EnvironmentSatisfaction  21342 non-null  object \n",
      " 6   Gender                   21331 non-null  object \n",
      " 7   JobInvolvement           21358 non-null  float64\n",
      " 8   JobLevel                 21350 non-null  float64\n",
      " 9   JobRole                  21345 non-null  object \n",
      " 10  JobSatisfaction          21352 non-null  float64\n",
      " 11  NumCompaniesWorked       21333 non-null  object \n",
      " 12  Date                     21381 non-null  object \n",
      " 13  OverTime                 21333 non-null  object \n",
      " 14  PercentSalaryHike        21366 non-null  object \n",
      " 15  PerformanceRating        21351 non-null  object \n",
      " 16  YearsAtCompany           21333 non-null  float64\n",
      " 17  MonthlyIncome            21365 non-null  object \n",
      " 18  Attrition                21343 non-null  object \n",
      "dtypes: float64(5), object(14)\n",
      "memory usage: 3.1+ MB\n"
     ]
    }
   ],
   "source": [
    "df.info()"
   ]
  },
  {
   "cell_type": "code",
   "execution_count": 4,
   "id": "192f93f8",
   "metadata": {
    "ExecuteTime": {
     "end_time": "2024-03-09T15:19:13.561041Z",
     "start_time": "2024-03-09T15:19:13.501235Z"
    }
   },
   "outputs": [
    {
     "data": {
      "text/plain": [
       "Age                        26\n",
       "BusinessTravel             34\n",
       "Department                 42\n",
       "DistanceFromHome           47\n",
       "EducationField             28\n",
       "EnvironmentSatisfaction    39\n",
       "Gender                     50\n",
       "JobInvolvement             23\n",
       "JobLevel                   31\n",
       "JobRole                    36\n",
       "JobSatisfaction            29\n",
       "NumCompaniesWorked         48\n",
       "Date                        0\n",
       "OverTime                   48\n",
       "PercentSalaryHike          15\n",
       "PerformanceRating          30\n",
       "YearsAtCompany             48\n",
       "MonthlyIncome              16\n",
       "Attrition                  38\n",
       "dtype: int64"
      ]
     },
     "execution_count": 4,
     "metadata": {},
     "output_type": "execute_result"
    }
   ],
   "source": [
    "df.isnull().sum()"
   ]
  },
  {
   "cell_type": "code",
   "execution_count": 5,
   "id": "29621c94",
   "metadata": {
    "ExecuteTime": {
     "end_time": "2024-03-09T15:19:14.364325Z",
     "start_time": "2024-03-09T15:19:14.253213Z"
    }
   },
   "outputs": [],
   "source": [
    "for i in df.columns:\n",
    "    if df[i].dtype == 'object':\n",
    "        df[i] = df[i].fillna(df[i].mode()[0])\n",
    "    else:\n",
    "        df[i] = df[i].fillna(df[i].median())"
   ]
  },
  {
   "cell_type": "code",
   "execution_count": 6,
   "id": "8f271fe5",
   "metadata": {
    "ExecuteTime": {
     "end_time": "2024-03-09T15:19:14.980118Z",
     "start_time": "2024-03-09T15:19:14.919358Z"
    }
   },
   "outputs": [
    {
     "data": {
      "text/plain": [
       "Age                        0\n",
       "BusinessTravel             0\n",
       "Department                 0\n",
       "DistanceFromHome           0\n",
       "EducationField             0\n",
       "EnvironmentSatisfaction    0\n",
       "Gender                     0\n",
       "JobInvolvement             0\n",
       "JobLevel                   0\n",
       "JobRole                    0\n",
       "JobSatisfaction            0\n",
       "NumCompaniesWorked         0\n",
       "Date                       0\n",
       "OverTime                   0\n",
       "PercentSalaryHike          0\n",
       "PerformanceRating          0\n",
       "YearsAtCompany             0\n",
       "MonthlyIncome              0\n",
       "Attrition                  0\n",
       "dtype: int64"
      ]
     },
     "execution_count": 6,
     "metadata": {},
     "output_type": "execute_result"
    }
   ],
   "source": [
    "df.isnull().sum()"
   ]
  },
  {
   "cell_type": "code",
   "execution_count": 7,
   "id": "f4355195",
   "metadata": {
    "ExecuteTime": {
     "end_time": "2024-03-09T15:19:15.720839Z",
     "start_time": "2024-03-09T15:19:15.657981Z"
    }
   },
   "outputs": [
    {
     "data": {
      "text/plain": [
       "251"
      ]
     },
     "execution_count": 7,
     "metadata": {},
     "output_type": "execute_result"
    }
   ],
   "source": [
    "df.duplicated().sum()"
   ]
  },
  {
   "cell_type": "code",
   "execution_count": 8,
   "id": "2e5fe7a6",
   "metadata": {
    "ExecuteTime": {
     "end_time": "2024-03-09T15:19:16.383797Z",
     "start_time": "2024-03-09T15:19:16.323252Z"
    }
   },
   "outputs": [],
   "source": [
    "df.drop_duplicates(inplace=True)"
   ]
  },
  {
   "cell_type": "code",
   "execution_count": 9,
   "id": "fed52252",
   "metadata": {
    "ExecuteTime": {
     "end_time": "2024-03-09T15:19:17.064030Z",
     "start_time": "2024-03-09T15:19:17.031195Z"
    }
   },
   "outputs": [
    {
     "data": {
      "text/plain": [
       "0"
      ]
     },
     "execution_count": 9,
     "metadata": {},
     "output_type": "execute_result"
    }
   ],
   "source": [
    "df.duplicated().sum()"
   ]
  },
  {
   "cell_type": "code",
   "execution_count": 10,
   "id": "fba825f3",
   "metadata": {
    "ExecuteTime": {
     "end_time": "2024-03-09T15:19:17.745324Z",
     "start_time": "2024-03-09T15:19:17.695069Z"
    }
   },
   "outputs": [
    {
     "name": "stdout",
     "output_type": "stream",
     "text": [
      "Travel_Rarely        8689\n",
      "Travel_Frequently    6516\n",
      "Non-Travel           5925\n",
      "Name: BusinessTravel, dtype: int64\n",
      "*************************************\n",
      "Research & Development    8336\n",
      "Sales                     7181\n",
      "Human Resources           5613\n",
      "Name: Department, dtype: int64\n",
      "*************************************\n",
      "1        1365\n",
      "2        1118\n",
      "9         899\n",
      "3         884\n",
      "8         862\n",
      "10        834\n",
      "7         831\n",
      "5         792\n",
      "6         785\n",
      "4         742\n",
      "26        719\n",
      "24        718\n",
      "16        718\n",
      "22        709\n",
      "11        688\n",
      "15        685\n",
      "12        678\n",
      "20        669\n",
      "17        668\n",
      "25        655\n",
      "13        651\n",
      "23        644\n",
      "28        641\n",
      "18        626\n",
      "27        623\n",
      "14        611\n",
      "19        610\n",
      "21        605\n",
      "29         99\n",
      "$27.0       1\n",
      "Name: DistanceFromHome, dtype: int64\n",
      "*************************************\n",
      "Life Sciences       4694\n",
      "Medical             4091\n",
      "Marketing           3297\n",
      "Technical Degree    3190\n",
      "Other               3077\n",
      "Human Resources     2780\n",
      "$Human Resources       1\n",
      "Name: EducationField, dtype: int64\n",
      "*************************************\n",
      "3       6883\n",
      "1       6502\n",
      "2       6402\n",
      "4       1341\n",
      "?1.0       1\n",
      "$1.0       1\n",
      "Name: EnvironmentSatisfaction, dtype: int64\n",
      "*************************************\n",
      "Male      11194\n",
      "Female     9936\n",
      "Name: Gender, dtype: int64\n",
      "*************************************\n",
      "Sales Executive              3061\n",
      "Laboratory Technician        2804\n",
      "Research Scientist           2780\n",
      "Sales Representative         2278\n",
      "Manufacturing Director       2202\n",
      "Healthcare Representative    2119\n",
      "Human Resources              2043\n",
      "Research Director            1935\n",
      "Manager                      1907\n",
      "Laboratory Technician$          1\n",
      "Name: JobRole, dtype: int64\n",
      "*************************************\n",
      "1       4368\n",
      "2       2832\n",
      "3       2822\n",
      "4       2737\n",
      "5       2608\n",
      "7       2554\n",
      "6       2470\n",
      "0        588\n",
      "8        150\n",
      "4.0?       1\n",
      "Name: NumCompaniesWorked, dtype: int64\n",
      "*************************************\n",
      "4/20/2014 12:56     2\n",
      "7/19/2016 16:07     2\n",
      "03-08-2015 13:16    2\n",
      "10/31/2010 12:10    2\n",
      "11-09-2019 03:25    2\n",
      "                   ..\n",
      "07-04-2015 00:55    1\n",
      "11/22/2016 8:59     1\n",
      "6/13/2019 23:42     1\n",
      "2/25/2015 0:41      1\n",
      "09-11-2014 07:07    1\n",
      "Name: Date, Length: 21069, dtype: int64\n",
      "*************************************\n",
      "No     11261\n",
      "Yes     9869\n",
      "Name: OverTime, dtype: int64\n",
      "*************************************\n",
      "11       1821\n",
      "13       1694\n",
      "12       1658\n",
      "14       1627\n",
      "15       1359\n",
      "18       1224\n",
      "16       1215\n",
      "17       1176\n",
      "7         961\n",
      "8         925\n",
      "5         922\n",
      "4         909\n",
      "3         909\n",
      "1         907\n",
      "2         904\n",
      "9         899\n",
      "10        885\n",
      "6         858\n",
      "19        276\n",
      "17.0$       1\n",
      "Name: PercentSalaryHike, dtype: int64\n",
      "*************************************\n",
      "1       8246\n",
      "2       8147\n",
      "3       4736\n",
      "2.0$       1\n",
      "Name: PerformanceRating, dtype: int64\n",
      "*************************************\n",
      "2028    52\n",
      "2436    26\n",
      "2119    25\n",
      "2362    25\n",
      "2600    25\n",
      "        ..\n",
      "9575     1\n",
      "9860     1\n",
      "1960     1\n",
      "566      1\n",
      "798      1\n",
      "Name: MonthlyIncome, Length: 10696, dtype: int64\n",
      "*************************************\n",
      "No     10837\n",
      "Yes    10293\n",
      "Name: Attrition, dtype: int64\n",
      "*************************************\n"
     ]
    }
   ],
   "source": [
    "for i in df.columns:\n",
    "    \n",
    "    if df[i].dtypes == 'object':\n",
    "        print(df[i].value_counts())\n",
    "        print('*************************************')"
   ]
  },
  {
   "cell_type": "code",
   "execution_count": 11,
   "id": "1c23a296",
   "metadata": {
    "ExecuteTime": {
     "end_time": "2024-03-09T15:19:18.648081Z",
     "start_time": "2024-03-09T15:19:18.632304Z"
    }
   },
   "outputs": [
    {
     "data": {
      "text/plain": [
       "array(['3', '1', '2', '2.0$'], dtype=object)"
      ]
     },
     "execution_count": 11,
     "metadata": {},
     "output_type": "execute_result"
    }
   ],
   "source": [
    "df['PerformanceRating'].unique()"
   ]
  },
  {
   "cell_type": "code",
   "execution_count": 12,
   "id": "0c8f1fbc",
   "metadata": {
    "ExecuteTime": {
     "end_time": "2024-03-09T15:19:19.365466Z",
     "start_time": "2024-03-09T15:19:19.333259Z"
    }
   },
   "outputs": [],
   "source": [
    "df['PerformanceRating'].replace(\"2.0$\",\"2\", inplace=True)"
   ]
  },
  {
   "cell_type": "code",
   "execution_count": 13,
   "id": "d704b896",
   "metadata": {
    "ExecuteTime": {
     "end_time": "2024-03-09T15:19:22.503326Z",
     "start_time": "2024-03-09T15:19:20.149781Z"
    }
   },
   "outputs": [
    {
     "name": "stdout",
     "output_type": "stream",
     "text": [
      "Front:  0 | Rear:  0 | Symbol:  ?  |  Column:  Age\n",
      "Front:  0 | Rear:  0 | Symbol:  ?  |  Column:  BusinessTravel\n",
      "Front:  0 | Rear:  0 | Symbol:  ?  |  Column:  Department\n",
      "Front:  0 | Rear:  0 | Symbol:  ?  |  Column:  DistanceFromHome\n",
      "Front:  0 | Rear:  0 | Symbol:  ?  |  Column:  EducationField\n",
      "Front:  1 | Rear:  0 | Symbol:  ?  |  Column:  EnvironmentSatisfaction\n",
      "Front:  0 | Rear:  0 | Symbol:  ?  |  Column:  Gender\n",
      "Front:  0 | Rear:  0 | Symbol:  ?  |  Column:  JobInvolvement\n",
      "Front:  0 | Rear:  0 | Symbol:  ?  |  Column:  JobLevel\n",
      "Front:  0 | Rear:  0 | Symbol:  ?  |  Column:  JobRole\n",
      "Front:  0 | Rear:  0 | Symbol:  ?  |  Column:  JobSatisfaction\n",
      "Front:  0 | Rear:  1 | Symbol:  ?  |  Column:  NumCompaniesWorked\n",
      "Front:  0 | Rear:  0 | Symbol:  ?  |  Column:  Date\n",
      "Front:  0 | Rear:  0 | Symbol:  ?  |  Column:  OverTime\n",
      "Front:  0 | Rear:  0 | Symbol:  ?  |  Column:  PercentSalaryHike\n",
      "Front:  0 | Rear:  0 | Symbol:  ?  |  Column:  PerformanceRating\n",
      "Front:  0 | Rear:  0 | Symbol:  ?  |  Column:  YearsAtCompany\n",
      "Front:  1 | Rear:  1 | Symbol:  ?  |  Column:  MonthlyIncome\n",
      "Front:  0 | Rear:  0 | Symbol:  ?  |  Column:  Attrition\n",
      "Front:  0 | Rear:  0 | Symbol:  $  |  Column:  Age\n",
      "Front:  0 | Rear:  0 | Symbol:  $  |  Column:  BusinessTravel\n",
      "Front:  0 | Rear:  0 | Symbol:  $  |  Column:  Department\n",
      "Front:  1 | Rear:  0 | Symbol:  $  |  Column:  DistanceFromHome\n",
      "Front:  1 | Rear:  0 | Symbol:  $  |  Column:  EducationField\n",
      "Front:  1 | Rear:  0 | Symbol:  $  |  Column:  EnvironmentSatisfaction\n",
      "Front:  0 | Rear:  0 | Symbol:  $  |  Column:  Gender\n",
      "Front:  0 | Rear:  0 | Symbol:  $  |  Column:  JobInvolvement\n",
      "Front:  0 | Rear:  0 | Symbol:  $  |  Column:  JobLevel\n",
      "Front:  0 | Rear:  1 | Symbol:  $  |  Column:  JobRole\n",
      "Front:  0 | Rear:  0 | Symbol:  $  |  Column:  JobSatisfaction\n",
      "Front:  0 | Rear:  0 | Symbol:  $  |  Column:  NumCompaniesWorked\n",
      "Front:  0 | Rear:  0 | Symbol:  $  |  Column:  Date\n",
      "Front:  0 | Rear:  0 | Symbol:  $  |  Column:  OverTime\n",
      "Front:  0 | Rear:  1 | Symbol:  $  |  Column:  PercentSalaryHike\n",
      "Front:  0 | Rear:  0 | Symbol:  $  |  Column:  PerformanceRating\n",
      "Front:  0 | Rear:  0 | Symbol:  $  |  Column:  YearsAtCompany\n",
      "Front:  0 | Rear:  0 | Symbol:  $  |  Column:  MonthlyIncome\n",
      "Front:  0 | Rear:  0 | Symbol:  $  |  Column:  Attrition\n",
      "? => EnvironmentSatisfaction\n",
      "? => NumCompaniesWorked\n",
      "? => MonthlyIncome\n",
      "$ => DistanceFromHome\n",
      "$ => EducationField\n",
      "$ => EnvironmentSatisfaction\n",
      "$ => JobRole\n",
      "$ => PercentSalaryHike\n",
      "Counter({dtype('float64'): 11, dtype('O'): 7, dtype('<M8[ns]'): 1})\n"
     ]
    }
   ],
   "source": [
    "arr = ['?','$']\n",
    "\n",
    "# Detect: Unknown Values\n",
    "for i in arr:\n",
    "  for j in df.columns:\n",
    "    print(\"Front: \",df[j].astype(str).str.startswith(i).sum(),end=' | ')\n",
    "    print(\"Rear: \", df[j].astype(str).str.endswith(i).sum(),end=' | ')\n",
    "    print(\"Symbol: \", i, \" | \",\"Column: \",j)\n",
    "\n",
    "# Treat: Unknown Values\n",
    "for i in arr:\n",
    "    for j in df.columns:\n",
    "        if df[j].astype(str).str.startswith(i).sum() or df[j].astype(str).str.endswith(i).sum():\n",
    "            print(i, j, sep=' => ') \n",
    "            df[j] = df[j].apply(lambda x: x.replace(i,'') if i in str(x) else x)\n",
    "\n",
    "# Change datatype\n",
    "for i in df.columns:\n",
    "  n = df[i].iloc[0]\n",
    "  if i == 'Date':\n",
    "    df[i] = pd.to_datetime(df[i])\n",
    "  elif not isinstance(n,np.float64) and n[0].isnumeric():\n",
    "    df[i] = df[i].astype(float)\n",
    "\n",
    "# counts of total datatypes\n",
    "from collections import Counter as ct\n",
    "print(ct([df[i].dtype for i in df.columns]))\n"
   ]
  },
  {
   "cell_type": "code",
   "execution_count": 14,
   "id": "0475d7f0",
   "metadata": {
    "ExecuteTime": {
     "end_time": "2024-03-09T15:19:23.918696Z",
     "start_time": "2024-03-09T15:19:23.634291Z"
    }
   },
   "outputs": [
    {
     "data": {
      "text/plain": [
       "<AxesSubplot:>"
      ]
     },
     "execution_count": 14,
     "metadata": {},
     "output_type": "execute_result"
    },
    {
     "data": {
      "image/png": "[encoded data removed]",
      "text/plain": [
       "<Figure size 2000x900 with 1 Axes>"
      ]
     },
     "metadata": {},
     "output_type": "display_data"
    }
   ],
   "source": [
    "plt.figure(figsize=(20,9))\n",
    "sns.boxplot(data=df)"
   ]
  },
  {
   "cell_type": "code",
   "execution_count": 16,
   "id": "162bb9f1",
   "metadata": {
    "ExecuteTime": {
     "end_time": "2024-03-09T15:19:40.833979Z",
     "start_time": "2024-03-09T15:19:40.822122Z"
    }
   },
   "outputs": [
    {
     "data": {
      "text/plain": [
       "(-17.0, 79.0)"
      ]
     },
     "execution_count": 16,
     "metadata": {},
     "output_type": "execute_result"
    }
   ],
   "source": [
    "def outliers(col):\n",
    "    \n",
    "    q1, q3 = np.percentile(col, [25, 75])\n",
    "    iqr = q3 - q1\n",
    "    \n",
    "    lw = q1 - 1.5 * iqr\n",
    "    uw = q3 + 1.5 * iqr\n",
    "    \n",
    "    return lw, uw\n",
    "outliers(df['Age'])  "
   ]
  },
  {
   "cell_type": "code",
   "execution_count": 16,
   "id": "7d93c8aa",
   "metadata": {
    "ExecuteTime": {
     "end_time": "2024-02-13T08:54:08.813891Z",
     "start_time": "2024-02-13T08:54:08.797306Z"
    }
   },
   "outputs": [],
   "source": [
    "for i in ['Age']:\n",
    "    \n",
    "    lw,uw = outliers(df[i])\n",
    "    \n",
    "    df[i] = np.where(df[i] < lw,lw,df[i])\n",
    "    df[i] = np.where(df[i] > uw,uw,df[i])       "
   ]
  },
  {
   "cell_type": "code",
   "execution_count": 17,
   "id": "d5bb92d8",
   "metadata": {
    "ExecuteTime": {
     "end_time": "2024-02-13T08:54:09.849748Z",
     "start_time": "2024-02-13T08:54:09.723186Z"
    }
   },
   "outputs": [
    {
     "name": "stderr",
     "output_type": "stream",
     "text": [
      "C:\\conda_new\\lib\\site-packages\\seaborn\\_decorators.py:36: FutureWarning: Pass the following variable as a keyword arg: x. From version 0.12, the only valid positional argument will be `data`, and passing other arguments without an explicit keyword will result in an error or misinterpretation.\n",
      "  warnings.warn(\n"
     ]
    },
    {
     "data": {
      "text/plain": [
       "<AxesSubplot:xlabel='Age'>"
      ]
     },
     "execution_count": 17,
     "metadata": {},
     "output_type": "execute_result"
    },
    {
     "data": {
      "image/png": "[encoded data removed]",
      "text/plain": [
       "<Figure size 640x480 with 1 Axes>"
      ]
     },
     "metadata": {},
     "output_type": "display_data"
    }
   ],
   "source": [
    "sns.boxplot(df['Age'])"
   ]
  },
  {
   "cell_type": "code",
   "execution_count": 18,
   "id": "a4624d65",
   "metadata": {
    "ExecuteTime": {
     "end_time": "2024-02-13T08:54:10.557439Z",
     "start_time": "2024-02-13T08:54:10.526187Z"
    }
   },
   "outputs": [
    {
     "name": "stdout",
     "output_type": "stream",
     "text": [
      "Age                    30.231225\n",
      "MonthlyIncome        7468.976877\n",
      "PercentSalaryHike      10.371223\n",
      "PerformanceRating       1.801321\n",
      "dtype: float64\n"
     ]
    }
   ],
   "source": [
    "data = df[df['Attrition'] == 'Yes']\n",
    "avg = data[['Age','MonthlyIncome','PercentSalaryHike','PerformanceRating']].mean()\n",
    "print(avg)"
   ]
  },
  {
   "cell_type": "code",
   "execution_count": 22,
   "id": "38b137ca",
   "metadata": {
    "ExecuteTime": {
     "end_time": "2024-02-13T08:54:22.887712Z",
     "start_time": "2024-02-13T08:54:22.857778Z"
    }
   },
   "outputs": [
    {
     "data": {
      "text/html": [
       "<div>\n",
       "<style scoped>\n",
       "    .dataframe tbody tr th:only-of-type {\n",
       "        vertical-align: middle;\n",
       "    }\n",
       "\n",
       "    .dataframe tbody tr th {\n",
       "        vertical-align: top;\n",
       "    }\n",
       "\n",
       "    .dataframe thead th {\n",
       "        text-align: right;\n",
       "    }\n",
       "</style>\n",
       "<table border=\"1\" class=\"dataframe\">\n",
       "  <thead>\n",
       "    <tr style=\"text-align: right;\">\n",
       "      <th></th>\n",
       "      <th>Age</th>\n",
       "      <th>BusinessTravel</th>\n",
       "      <th>Department</th>\n",
       "      <th>DistanceFromHome</th>\n",
       "      <th>EducationField</th>\n",
       "      <th>EnvironmentSatisfaction</th>\n",
       "      <th>Gender</th>\n",
       "      <th>JobInvolvement</th>\n",
       "      <th>JobLevel</th>\n",
       "      <th>JobRole</th>\n",
       "      <th>JobSatisfaction</th>\n",
       "      <th>NumCompaniesWorked</th>\n",
       "      <th>Date</th>\n",
       "      <th>OverTime</th>\n",
       "      <th>PercentSalaryHike</th>\n",
       "      <th>PerformanceRating</th>\n",
       "      <th>YearsAtCompany</th>\n",
       "      <th>MonthlyIncome</th>\n",
       "      <th>Attrition</th>\n",
       "    </tr>\n",
       "  </thead>\n",
       "  <tbody>\n",
       "    <tr>\n",
       "      <th>0</th>\n",
       "      <td>33.0</td>\n",
       "      <td>Travel_Frequently</td>\n",
       "      <td>Research &amp; Development</td>\n",
       "      <td>3.0</td>\n",
       "      <td>Life Sciences</td>\n",
       "      <td>1.0</td>\n",
       "      <td>Male</td>\n",
       "      <td>3.0</td>\n",
       "      <td>1.0</td>\n",
       "      <td>Research Scientist</td>\n",
       "      <td>1.0</td>\n",
       "      <td>1.0</td>\n",
       "      <td>2016-07-25 19:04:00</td>\n",
       "      <td>Yes</td>\n",
       "      <td>11.0</td>\n",
       "      <td>3.0</td>\n",
       "      <td>10.0</td>\n",
       "      <td>3348.0</td>\n",
       "      <td>Yes</td>\n",
       "    </tr>\n",
       "    <tr>\n",
       "      <th>1</th>\n",
       "      <td>32.0</td>\n",
       "      <td>Travel_Rarely</td>\n",
       "      <td>Sales</td>\n",
       "      <td>4.0</td>\n",
       "      <td>Medical</td>\n",
       "      <td>4.0</td>\n",
       "      <td>Male</td>\n",
       "      <td>1.0</td>\n",
       "      <td>3.0</td>\n",
       "      <td>Sales Executive</td>\n",
       "      <td>4.0</td>\n",
       "      <td>1.0</td>\n",
       "      <td>2011-08-21 16:29:00</td>\n",
       "      <td>No</td>\n",
       "      <td>11.0</td>\n",
       "      <td>3.0</td>\n",
       "      <td>14.0</td>\n",
       "      <td>10400.0</td>\n",
       "      <td>Yes</td>\n",
       "    </tr>\n",
       "    <tr>\n",
       "      <th>2</th>\n",
       "      <td>40.0</td>\n",
       "      <td>Travel_Rarely</td>\n",
       "      <td>Research &amp; Development</td>\n",
       "      <td>9.0</td>\n",
       "      <td>Life Sciences</td>\n",
       "      <td>4.0</td>\n",
       "      <td>Male</td>\n",
       "      <td>3.0</td>\n",
       "      <td>1.0</td>\n",
       "      <td>Laboratory Technician</td>\n",
       "      <td>1.0</td>\n",
       "      <td>3.0</td>\n",
       "      <td>2010-09-22 06:12:00</td>\n",
       "      <td>No</td>\n",
       "      <td>14.0</td>\n",
       "      <td>3.0</td>\n",
       "      <td>5.0</td>\n",
       "      <td>2018.0</td>\n",
       "      <td>Yes</td>\n",
       "    </tr>\n",
       "    <tr>\n",
       "      <th>3</th>\n",
       "      <td>42.0</td>\n",
       "      <td>Travel_Rarely</td>\n",
       "      <td>Research &amp; Development</td>\n",
       "      <td>7.0</td>\n",
       "      <td>Medical</td>\n",
       "      <td>2.0</td>\n",
       "      <td>Female</td>\n",
       "      <td>4.0</td>\n",
       "      <td>2.0</td>\n",
       "      <td>Research Scientist</td>\n",
       "      <td>2.0</td>\n",
       "      <td>6.0</td>\n",
       "      <td>2014-11-18 11:17:00</td>\n",
       "      <td>Yes</td>\n",
       "      <td>16.0</td>\n",
       "      <td>3.0</td>\n",
       "      <td>1.0</td>\n",
       "      <td>2372.0</td>\n",
       "      <td>No</td>\n",
       "    </tr>\n",
       "    <tr>\n",
       "      <th>4</th>\n",
       "      <td>43.0</td>\n",
       "      <td>Travel_Frequently</td>\n",
       "      <td>Research &amp; Development</td>\n",
       "      <td>27.0</td>\n",
       "      <td>Life Sciences</td>\n",
       "      <td>3.0</td>\n",
       "      <td>Female</td>\n",
       "      <td>3.0</td>\n",
       "      <td>3.0</td>\n",
       "      <td>Manufacturing Director</td>\n",
       "      <td>1.0</td>\n",
       "      <td>8.0</td>\n",
       "      <td>2011-03-09 11:58:00</td>\n",
       "      <td>No</td>\n",
       "      <td>11.0</td>\n",
       "      <td>3.0</td>\n",
       "      <td>8.0</td>\n",
       "      <td>10820.0</td>\n",
       "      <td>No</td>\n",
       "    </tr>\n",
       "  </tbody>\n",
       "</table>\n",
       "</div>"
      ],
      "text/plain": [
       "    Age     BusinessTravel              Department  DistanceFromHome  \\\n",
       "0  33.0  Travel_Frequently  Research & Development               3.0   \n",
       "1  32.0      Travel_Rarely                   Sales               4.0   \n",
       "2  40.0      Travel_Rarely  Research & Development               9.0   \n",
       "3  42.0      Travel_Rarely  Research & Development               7.0   \n",
       "4  43.0  Travel_Frequently  Research & Development              27.0   \n",
       "\n",
       "  EducationField  EnvironmentSatisfaction  Gender  JobInvolvement  JobLevel  \\\n",
       "0  Life Sciences                      1.0    Male             3.0       1.0   \n",
       "1        Medical                      4.0    Male             1.0       3.0   \n",
       "2  Life Sciences                      4.0    Male             3.0       1.0   \n",
       "3        Medical                      2.0  Female             4.0       2.0   \n",
       "4  Life Sciences                      3.0  Female             3.0       3.0   \n",
       "\n",
       "                  JobRole  JobSatisfaction  NumCompaniesWorked  \\\n",
       "0      Research Scientist              1.0                 1.0   \n",
       "1         Sales Executive              4.0                 1.0   \n",
       "2   Laboratory Technician              1.0                 3.0   \n",
       "3      Research Scientist              2.0                 6.0   \n",
       "4  Manufacturing Director              1.0                 8.0   \n",
       "\n",
       "                 Date OverTime  PercentSalaryHike  PerformanceRating  \\\n",
       "0 2016-07-25 19:04:00      Yes               11.0                3.0   \n",
       "1 2011-08-21 16:29:00       No               11.0                3.0   \n",
       "2 2010-09-22 06:12:00       No               14.0                3.0   \n",
       "3 2014-11-18 11:17:00      Yes               16.0                3.0   \n",
       "4 2011-03-09 11:58:00       No               11.0                3.0   \n",
       "\n",
       "   YearsAtCompany  MonthlyIncome Attrition  \n",
       "0            10.0         3348.0       Yes  \n",
       "1            14.0        10400.0       Yes  \n",
       "2             5.0         2018.0       Yes  \n",
       "3             1.0         2372.0        No  \n",
       "4             8.0        10820.0        No  "
      ]
     },
     "execution_count": 22,
     "metadata": {},
     "output_type": "execute_result"
    }
   ],
   "source": [
    "df.head()"
   ]
  },
  {
   "cell_type": "code",
   "execution_count": 27,
   "id": "9e6a0c70",
   "metadata": {
    "ExecuteTime": {
     "end_time": "2024-02-13T08:57:50.721939Z",
     "start_time": "2024-02-13T08:57:50.627281Z"
    }
   },
   "outputs": [
    {
     "data": {
      "text/plain": [
       "<AxesSubplot:ylabel='Department'>"
      ]
     },
     "execution_count": 27,
     "metadata": {},
     "output_type": "execute_result"
    },
    {
     "data": {
      "image/png": "[encoded data removed]",
      "text/plain": [
       "<Figure size 640x480 with 1 Axes>"
      ]
     },
     "metadata": {},
     "output_type": "display_data"
    }
   ],
   "source": [
    "df['Department'].value_counts().plot(kind = 'pie',autopct = '%1.1f%%')"
   ]
  },
  {
   "cell_type": "code",
   "execution_count": 32,
   "id": "b977a296",
   "metadata": {
    "ExecuteTime": {
     "end_time": "2024-02-13T09:08:34.783661Z",
     "start_time": "2024-02-13T09:08:34.673572Z"
    }
   },
   "outputs": [
    {
     "data": {
      "text/plain": [
       "<AxesSubplot:xlabel='Attrition,Gender'>"
      ]
     },
     "execution_count": 32,
     "metadata": {},
     "output_type": "execute_result"
    },
    {
     "data": {
      "image/png": "[encoded data removed]",
      "text/plain": [
       "<Figure size 640x480 with 1 Axes>"
      ]
     },
     "metadata": {},
     "output_type": "display_data"
    }
   ],
   "source": [
    "arr = df[['Attrition','Gender']].value_counts()\n",
    "arr.plot(kind = 'bar',x= 'Attrition,Gender',y='count')"
   ]
  },
  {
   "cell_type": "code",
   "execution_count": 51,
   "id": "5bf5e0a8",
   "metadata": {
    "ExecuteTime": {
     "end_time": "2024-02-13T09:19:27.570541Z",
     "start_time": "2024-02-13T09:19:27.207465Z"
    }
   },
   "outputs": [
    {
     "data": {
      "text/plain": [
       "<AxesSubplot:xlabel='JobRole', ylabel='Age'>"
      ]
     },
     "execution_count": 51,
     "metadata": {},
     "output_type": "execute_result"
    },
    {
     "data": {
      "image/png": "[encoded data removed]",
      "text/plain": [
       "<Figure size 1500x800 with 1 Axes>"
      ]
     },
     "metadata": {},
     "output_type": "display_data"
    }
   ],
   "source": [
    "plt.figure(figsize=(15,8))\n",
    "sns.barplot(data=df,y = 'Age',x = 'JobRole')"
   ]
  },
  {
   "cell_type": "code",
   "execution_count": 37,
   "id": "0e32dfc3",
   "metadata": {
    "ExecuteTime": {
     "end_time": "2024-02-13T09:12:43.467923Z",
     "start_time": "2024-02-13T09:12:43.452112Z"
    }
   },
   "outputs": [
    {
     "data": {
      "text/plain": [
       "Index(['Age', 'BusinessTravel', 'Department', 'DistanceFromHome',\n",
       "       'EducationField', 'EnvironmentSatisfaction', 'Gender', 'JobInvolvement',\n",
       "       'JobLevel', 'JobRole', 'JobSatisfaction', 'NumCompaniesWorked', 'Date',\n",
       "       'OverTime', 'PercentSalaryHike', 'PerformanceRating', 'YearsAtCompany',\n",
       "       'MonthlyIncome', 'Attrition'],\n",
       "      dtype='object')"
      ]
     },
     "execution_count": 37,
     "metadata": {},
     "output_type": "execute_result"
    }
   ],
   "source": [
    "df.columns"
   ]
  },
  {
   "cell_type": "code",
   "execution_count": 40,
   "id": "a5ca4379",
   "metadata": {
    "ExecuteTime": {
     "end_time": "2024-02-13T09:13:12.335587Z",
     "start_time": "2024-02-13T09:13:12.107816Z"
    }
   },
   "outputs": [
    {
     "data": {
      "text/plain": [
       "<AxesSubplot:xlabel='OverTime', ylabel='MonthlyIncome'>"
      ]
     },
     "execution_count": 40,
     "metadata": {},
     "output_type": "execute_result"
    },
    {
     "data": {
      "image/png": "[encoded data removed]",
      "text/plain": [
       "<Figure size 640x480 with 1 Axes>"
      ]
     },
     "metadata": {},
     "output_type": "display_data"
    }
   ],
   "source": [
    "sns.barplot(data=df,x = 'OverTime',y = 'MonthlyIncome')"
   ]
  },
  {
   "cell_type": "code",
   "execution_count": null,
   "id": "0a9d0b07",
   "metadata": {},
   "outputs": [],
   "source": []
  },
  {
   "cell_type": "code",
   "execution_count": null,
   "id": "c7b25e68",
   "metadata": {},
   "outputs": [],
   "source": []
  },
  {
   "cell_type": "code",
   "execution_count": null,
   "id": "5b512d5c",
   "metadata": {},
   "outputs": [],
   "source": []
  },
  {
   "cell_type": "code",
   "execution_count": null,
   "id": "73e9636a",
   "metadata": {},
   "outputs": [],
   "source": []
  },
  {
   "cell_type": "code",
   "execution_count": null,
   "id": "07edd26c",
   "metadata": {},
   "outputs": [],
   "source": []
  },
  {
   "cell_type": "code",
   "execution_count": null,
   "id": "ebfaa292",
   "metadata": {},
   "outputs": [],
   "source": []
  },
  {
   "cell_type": "code",
   "execution_count": null,
   "id": "ae4c9ba9",
   "metadata": {},
   "outputs": [],
   "source": []
  },
  {
   "cell_type": "code",
   "execution_count": null,
   "id": "2ca0f55d",
   "metadata": {},
   "outputs": [],
   "source": []
  },
  {
   "cell_type": "code",
   "execution_count": null,
   "id": "2e60ad85",
   "metadata": {},
   "outputs": [],
   "source": []
  },
  {
   "cell_type": "code",
   "execution_count": null,
   "id": "3c59ef7a",
   "metadata": {},
   "outputs": [],
   "source": []
  },
  {
   "cell_type": "code",
   "execution_count": null,
   "id": "6dcbbdb2",
   "metadata": {},
   "outputs": [],
   "source": []
  },
  {
   "cell_type": "code",
   "execution_count": null,
   "id": "5237cdc8",
   "metadata": {},
   "outputs": [],
   "source": []
  },
  {
   "cell_type": "code",
   "execution_count": null,
   "id": "032ffa86",
   "metadata": {},
   "outputs": [],
   "source": []
  },
  {
   "cell_type": "code",
   "execution_count": null,
   "id": "7b2f1988",
   "metadata": {},
   "outputs": [],
   "source": []
  },
  {
   "cell_type": "code",
   "execution_count": null,
   "id": "1702ecdd",
   "metadata": {},
   "outputs": [],
   "source": []
  },
  {
   "cell_type": "code",
   "execution_count": null,
   "id": "a3d8ed11",
   "metadata": {},
   "outputs": [],
   "source": []
  },
  {
   "cell_type": "code",
   "execution_count": null,
   "id": "7b505cd8",
   "metadata": {},
   "outputs": [],
   "source": []
  },
  {
   "cell_type": "code",
   "execution_count": null,
   "id": "c8517a2f",
   "metadata": {},
   "outputs": [],
   "source": []
  },
  {
   "cell_type": "code",
   "execution_count": null,
   "id": "b3bae224",
   "metadata": {},
   "outputs": [],
   "source": []
  },
  {
   "cell_type": "code",
   "execution_count": null,
   "id": "52a4d028",
   "metadata": {},
   "outputs": [],
   "source": []
  },
  {
   "cell_type": "code",
   "execution_count": null,
   "id": "36fb29cf",
   "metadata": {},
   "outputs": [],
   "source": []
  },
  {
   "cell_type": "code",
   "execution_count": null,
   "id": "5d675e2c",
   "metadata": {},
   "outputs": [],
   "source": []
  },
  {
   "cell_type": "code",
   "execution_count": null,
   "id": "95eb8701",
   "metadata": {},
   "outputs": [],
   "source": []
  },
  {
   "cell_type": "code",
   "execution_count": null,
   "id": "41e8c11c",
   "metadata": {},
   "outputs": [],
   "source": []
  },
  {
   "cell_type": "code",
   "execution_count": null,
   "id": "8776f946",
   "metadata": {},
   "outputs": [],
   "source": []
  },
  {
   "cell_type": "code",
   "execution_count": null,
   "id": "003be818",
   "metadata": {},
   "outputs": [],
   "source": []
  },
  {
   "cell_type": "code",
   "execution_count": null,
   "id": "4435fc25",
   "metadata": {},
   "outputs": [],
   "source": []
  },
  {
   "cell_type": "code",
   "execution_count": null,
   "id": "868ec301",
   "metadata": {},
   "outputs": [],
   "source": []
  },
  {
   "cell_type": "code",
   "execution_count": null,
   "id": "84072091",
   "metadata": {},
   "outputs": [],
   "source": []
  },
  {
   "cell_type": "code",
   "execution_count": null,
   "id": "4865808c",
   "metadata": {},
   "outputs": [],
   "source": []
  },
  {
   "cell_type": "code",
   "execution_count": null,
   "id": "c4583f3f",
   "metadata": {},
   "outputs": [],
   "source": []
  },
  {
   "cell_type": "code",
   "execution_count": null,
   "id": "57dbe05e",
   "metadata": {},
   "outputs": [],
   "source": []
  },
  {
   "cell_type": "code",
   "execution_count": null,
   "id": "28ac3703",
   "metadata": {},
   "outputs": [],
   "source": []
  },
  {
   "cell_type": "code",
   "execution_count": null,
   "id": "302cc2ac",
   "metadata": {},
   "outputs": [],
   "source": []
  },
  {
   "cell_type": "code",
   "execution_count": null,
   "id": "5f93cb7f",
   "metadata": {},
   "outputs": [],
   "source": []
  },
  {
   "cell_type": "code",
   "execution_count": null,
   "id": "ed828f6b",
   "metadata": {},
   "outputs": [],
   "source": []
  },
  {
   "cell_type": "code",
   "execution_count": null,
   "id": "d76b8014",
   "metadata": {},
   "outputs": [],
   "source": []
  },
  {
   "cell_type": "code",
   "execution_count": null,
   "id": "441e3937",
   "metadata": {},
   "outputs": [],
   "source": []
  },
  {
   "cell_type": "code",
   "execution_count": null,
   "id": "2a723898",
   "metadata": {},
   "outputs": [],
   "source": []
  },
  {
   "cell_type": "code",
   "execution_count": null,
   "id": "33ae98b4",
   "metadata": {},
   "outputs": [],
   "source": []
  },
  {
   "cell_type": "code",
   "execution_count": null,
   "id": "ee99ebc0",
   "metadata": {},
   "outputs": [],
   "source": []
  },
  {
   "cell_type": "code",
   "execution_count": null,
   "id": "e5c27f9c",
   "metadata": {},
   "outputs": [],
   "source": []
  },
  {
   "cell_type": "code",
   "execution_count": null,
   "id": "4f3f70ee",
   "metadata": {},
   "outputs": [],
   "source": []
  },
  {
   "cell_type": "code",
   "execution_count": null,
   "id": "af3f6607",
   "metadata": {},
   "outputs": [],
   "source": []
  },
  {
   "cell_type": "code",
   "execution_count": null,
   "id": "a9fb113c",
   "metadata": {},
   "outputs": [],
   "source": []
  },
  {
   "cell_type": "code",
   "execution_count": null,
   "id": "7cbb900f",
   "metadata": {},
   "outputs": [],
   "source": []
  },
  {
   "cell_type": "code",
   "execution_count": null,
   "id": "f502ef13",
   "metadata": {},
   "outputs": [],
   "source": []
  },
  {
   "cell_type": "code",
   "execution_count": null,
   "id": "39a33b72",
   "metadata": {},
   "outputs": [],
   "source": []
  },
  {
   "cell_type": "code",
   "execution_count": null,
   "id": "a5e77969",
   "metadata": {},
   "outputs": [],
   "source": []
  },
  {
   "cell_type": "code",
   "execution_count": null,
   "id": "3e1030c1",
   "metadata": {},
   "outputs": [],
   "source": []
  },
  {
   "cell_type": "code",
   "execution_count": null,
   "id": "1f97ce8c",
   "metadata": {},
   "outputs": [],
   "source": []
  },
  {
   "cell_type": "code",
   "execution_count": null,
   "id": "d7ea1352",
   "metadata": {},
   "outputs": [],
   "source": []
  },
  {
   "cell_type": "code",
   "execution_count": null,
   "id": "07c7fae7",
   "metadata": {},
   "outputs": [],
   "source": []
  },
  {
   "cell_type": "code",
   "execution_count": null,
   "id": "116ae3ab",
   "metadata": {},
   "outputs": [],
   "source": []
  },
  {
   "cell_type": "code",
   "execution_count": null,
   "id": "c8904bef",
   "metadata": {},
   "outputs": [],
   "source": []
  },
  {
   "cell_type": "code",
   "execution_count": null,
   "id": "f273b9bf",
   "metadata": {},
   "outputs": [],
   "source": []
  },
  {
   "cell_type": "code",
   "execution_count": null,
   "id": "41d021d7",
   "metadata": {},
   "outputs": [],
   "source": []
  },
  {
   "cell_type": "code",
   "execution_count": null,
   "id": "4ed0ac50",
   "metadata": {},
   "outputs": [],
   "source": []
  },
  {
   "cell_type": "code",
   "execution_count": null,
   "id": "4a4b8a24",
   "metadata": {},
   "outputs": [],
   "source": []
  },
  {
   "cell_type": "code",
   "execution_count": null,
   "id": "8923564f",
   "metadata": {},
   "outputs": [],
   "source": []
  },
  {
   "cell_type": "code",
   "execution_count": null,
   "id": "6a0b3004",
   "metadata": {},
   "outputs": [],
   "source": []
  },
  {
   "cell_type": "code",
   "execution_count": null,
   "id": "118d63aa",
   "metadata": {},
   "outputs": [],
   "source": []
  },
  {
   "cell_type": "code",
   "execution_count": null,
   "id": "18f60ebf",
   "metadata": {},
   "outputs": [],
   "source": []
  },
  {
   "cell_type": "code",
   "execution_count": null,
   "id": "b9556a75",
   "metadata": {},
   "outputs": [],
   "source": []
  },
  {
   "cell_type": "code",
   "execution_count": null,
   "id": "f0ca7efb",
   "metadata": {},
   "outputs": [],
   "source": []
  },
  {
   "cell_type": "code",
   "execution_count": null,
   "id": "afa9b234",
   "metadata": {},
   "outputs": [],
   "source": []
  },
  {
   "cell_type": "code",
   "execution_count": null,
   "id": "e6f8db86",
   "metadata": {},
   "outputs": [],
   "source": []
  },
  {
   "cell_type": "code",
   "execution_count": null,
   "id": "ad0f6461",
   "metadata": {},
   "outputs": [],
   "source": []
  },
  {
   "cell_type": "code",
   "execution_count": null,
   "id": "d4a7d915",
   "metadata": {},
   "outputs": [],
   "source": []
  },
  {
   "cell_type": "code",
   "execution_count": null,
   "id": "0d9d4317",
   "metadata": {},
   "outputs": [],
   "source": []
  },
  {
   "cell_type": "code",
   "execution_count": null,
   "id": "4c9ec03b",
   "metadata": {},
   "outputs": [],
   "source": []
  },
  {
   "cell_type": "code",
   "execution_count": null,
   "id": "9476a1ff",
   "metadata": {},
   "outputs": [],
   "source": []
  },
  {
   "cell_type": "code",
   "execution_count": null,
   "id": "1d5521a2",
   "metadata": {},
   "outputs": [],
   "source": []
  },
  {
   "cell_type": "code",
   "execution_count": null,
   "id": "85e79745",
   "metadata": {},
   "outputs": [],
   "source": []
  },
  {
   "cell_type": "code",
   "execution_count": null,
   "id": "b799a630",
   "metadata": {},
   "outputs": [],
   "source": []
  },
  {
   "cell_type": "code",
   "execution_count": null,
   "id": "abf70c3b",
   "metadata": {},
   "outputs": [],
   "source": []
  },
  {
   "cell_type": "code",
   "execution_count": null,
   "id": "6c9d195c",
   "metadata": {},
   "outputs": [],
   "source": []
  },
  {
   "cell_type": "code",
   "execution_count": null,
   "id": "5a46b43f",
   "metadata": {},
   "outputs": [],
   "source": []
  },
  {
   "cell_type": "code",
   "execution_count": null,
   "id": "0d09cf40",
   "metadata": {},
   "outputs": [],
   "source": []
  },
  {
   "cell_type": "code",
   "execution_count": null,
   "id": "5e3956f8",
   "metadata": {},
   "outputs": [],
   "source": []
  },
  {
   "cell_type": "code",
   "execution_count": null,
   "id": "0046923c",
   "metadata": {},
   "outputs": [],
   "source": []
  },
  {
   "cell_type": "code",
   "execution_count": null,
   "id": "28d22591",
   "metadata": {},
   "outputs": [],
   "source": []
  },
  {
   "cell_type": "code",
   "execution_count": null,
   "id": "ce1b7c3b",
   "metadata": {},
   "outputs": [],
   "source": []
  },
  {
   "cell_type": "code",
   "execution_count": null,
   "id": "fdcf8be5",
   "metadata": {},
   "outputs": [],
   "source": []
  },
  {
   "cell_type": "code",
   "execution_count": null,
   "id": "a5d7af4b",
   "metadata": {},
   "outputs": [],
   "source": []
  },
  {
   "cell_type": "code",
   "execution_count": null,
   "id": "37e0711a",
   "metadata": {},
   "outputs": [],
   "source": []
  },
  {
   "cell_type": "code",
   "execution_count": null,
   "id": "32fc5d2c",
   "metadata": {},
   "outputs": [],
   "source": []
  },
  {
   "cell_type": "code",
   "execution_count": null,
   "id": "453280ea",
   "metadata": {},
   "outputs": [],
   "source": []
  },
  {
   "cell_type": "code",
   "execution_count": null,
   "id": "94cb55e8",
   "metadata": {},
   "outputs": [],
   "source": []
  },
  {
   "cell_type": "code",
   "execution_count": null,
   "id": "89c5a797",
   "metadata": {},
   "outputs": [],
   "source": []
  },
  {
   "cell_type": "code",
   "execution_count": null,
   "id": "18ce6706",
   "metadata": {},
   "outputs": [],
   "source": []
  },
  {
   "cell_type": "code",
   "execution_count": null,
   "id": "0b341d47",
   "metadata": {},
   "outputs": [],
   "source": []
  },
  {
   "cell_type": "code",
   "execution_count": null,
   "id": "27950f3c",
   "metadata": {},
   "outputs": [],
   "source": []
  },
  {
   "cell_type": "code",
   "execution_count": null,
   "id": "f30522e8",
   "metadata": {},
   "outputs": [],
   "source": []
  },
  {
   "cell_type": "code",
   "execution_count": null,
   "id": "15f227e8",
   "metadata": {},
   "outputs": [],
   "source": []
  },
  {
   "cell_type": "code",
   "execution_count": null,
   "id": "f12bf0e8",
   "metadata": {},
   "outputs": [],
   "source": []
  },
  {
   "cell_type": "code",
   "execution_count": null,
   "id": "6537872d",
   "metadata": {},
   "outputs": [],
   "source": []
  },
  {
   "cell_type": "code",
   "execution_count": null,
   "id": "78e90b0c",
   "metadata": {},
   "outputs": [],
   "source": []
  },
  {
   "cell_type": "code",
   "execution_count": null,
   "id": "c5f6ebfb",
   "metadata": {},
   "outputs": [],
   "source": []
  },
  {
   "cell_type": "code",
   "execution_count": null,
   "id": "c67a5bc0",
   "metadata": {},
   "outputs": [],
   "source": []
  },
  {
   "cell_type": "code",
   "execution_count": null,
   "id": "12987701",
   "metadata": {},
   "outputs": [],
   "source": []
  },
  {
   "cell_type": "code",
   "execution_count": null,
   "id": "d2d15e95",
   "metadata": {},
   "outputs": [],
   "source": []
  },
  {
   "cell_type": "code",
   "execution_count": null,
   "id": "65c230b1",
   "metadata": {},
   "outputs": [],
   "source": []
  },
  {
   "cell_type": "code",
   "execution_count": null,
   "id": "5746c38a",
   "metadata": {},
   "outputs": [],
   "source": []
  },
  {
   "cell_type": "code",
   "execution_count": null,
   "id": "d2ccf55f",
   "metadata": {},
   "outputs": [],
   "source": []
  },
  {
   "cell_type": "code",
   "execution_count": null,
   "id": "4c9ec4d9",
   "metadata": {},
   "outputs": [],
   "source": []
  },
  {
   "cell_type": "code",
   "execution_count": null,
   "id": "4d3dfba2",
   "metadata": {},
   "outputs": [],
   "source": []
  },
  {
   "cell_type": "code",
   "execution_count": null,
   "id": "fb2b6e7a",
   "metadata": {},
   "outputs": [],
   "source": []
  },
  {
   "cell_type": "code",
   "execution_count": null,
   "id": "8cbbe228",
   "metadata": {},
   "outputs": [],
   "source": []
  },
  {
   "cell_type": "code",
   "execution_count": null,
   "id": "1a9be11c",
   "metadata": {},
   "outputs": [],
   "source": []
  },
  {
   "cell_type": "code",
   "execution_count": null,
   "id": "da2bb355",
   "metadata": {},
   "outputs": [],
   "source": []
  },
  {
   "cell_type": "code",
   "execution_count": null,
   "id": "5f9755a5",
   "metadata": {},
   "outputs": [],
   "source": []
  },
  {
   "cell_type": "code",
   "execution_count": null,
   "id": "eed5b567",
   "metadata": {},
   "outputs": [],
   "source": []
  },
  {
   "cell_type": "code",
   "execution_count": null,
   "id": "bbb509f8",
   "metadata": {},
   "outputs": [],
   "source": []
  },
  {
   "cell_type": "code",
   "execution_count": null,
   "id": "cb1c28ca",
   "metadata": {},
   "outputs": [],
   "source": []
  },
  {
   "cell_type": "code",
   "execution_count": null,
   "id": "dd7aac41",
   "metadata": {},
   "outputs": [],
   "source": []
  },
  {
   "cell_type": "code",
   "execution_count": null,
   "id": "2ea3f4af",
   "metadata": {},
   "outputs": [],
   "source": []
  },
  {
   "cell_type": "code",
   "execution_count": null,
   "id": "f2f6f32d",
   "metadata": {},
   "outputs": [],
   "source": []
  },
  {
   "cell_type": "code",
   "execution_count": null,
   "id": "490b0adb",
   "metadata": {},
   "outputs": [],
   "source": []
  },
  {
   "cell_type": "code",
   "execution_count": null,
   "id": "b3065d4c",
   "metadata": {},
   "outputs": [],
   "source": []
  },
  {
   "cell_type": "code",
   "execution_count": null,
   "id": "d20a0a0d",
   "metadata": {},
   "outputs": [],
   "source": []
  },
  {
   "cell_type": "code",
   "execution_count": null,
   "id": "6794fb75",
   "metadata": {},
   "outputs": [],
   "source": []
  },
  {
   "cell_type": "code",
   "execution_count": null,
   "id": "1113c946",
   "metadata": {},
   "outputs": [],
   "source": []
  },
  {
   "cell_type": "code",
   "execution_count": null,
   "id": "d9c87818",
   "metadata": {},
   "outputs": [],
   "source": []
  },
  {
   "cell_type": "code",
   "execution_count": null,
   "id": "44938290",
   "metadata": {},
   "outputs": [],
   "source": []
  },
  {
   "cell_type": "code",
   "execution_count": null,
   "id": "434bae59",
   "metadata": {},
   "outputs": [],
   "source": []
  },
  {
   "cell_type": "code",
   "execution_count": null,
   "id": "1332900f",
   "metadata": {},
   "outputs": [],
   "source": []
  },
  {
   "cell_type": "code",
   "execution_count": null,
   "id": "39ccdd0b",
   "metadata": {},
   "outputs": [],
   "source": []
  },
  {
   "cell_type": "code",
   "execution_count": null,
   "id": "4d9c9135",
   "metadata": {},
   "outputs": [],
   "source": []
  },
  {
   "cell_type": "code",
   "execution_count": null,
   "id": "01453373",
   "metadata": {},
   "outputs": [],
   "source": []
  },
  {
   "cell_type": "code",
   "execution_count": null,
   "id": "d578327c",
   "metadata": {},
   "outputs": [],
   "source": []
  },
  {
   "cell_type": "code",
   "execution_count": null,
   "id": "6014076b",
   "metadata": {},
   "outputs": [],
   "source": []
  },
  {
   "cell_type": "code",
   "execution_count": null,
   "id": "c8a4af69",
   "metadata": {},
   "outputs": [],
   "source": []
  },
  {
   "cell_type": "code",
   "execution_count": null,
   "id": "4b1d89b6",
   "metadata": {},
   "outputs": [],
   "source": []
  },
  {
   "cell_type": "code",
   "execution_count": null,
   "id": "848497d7",
   "metadata": {},
   "outputs": [],
   "source": []
  },
  {
   "cell_type": "code",
   "execution_count": null,
   "id": "8738f0ae",
   "metadata": {},
   "outputs": [],
   "source": []
  },
  {
   "cell_type": "code",
   "execution_count": null,
   "id": "feea4485",
   "metadata": {},
   "outputs": [],
   "source": []
  }
 ],
 "metadata": {
  "kernelspec": {
   "display_name": "Python 3 (ipykernel)",
   "language": "python",
   "name": "python3"
  },
  "language_info": {
   "codemirror_mode": {
    "name": "ipython",
    "version": 3
   },
   "file_extension": ".py",
   "mimetype": "text/x-python",
   "name": "python",
   "nbconvert_exporter": "python",
   "pygments_lexer": "ipython3",
   "version": "3.9.13"
  },
  "varInspector": {
   "cols": {
    "lenName": 16,
    "lenType": 16,
    "lenVar": 40
   },
   "kernels_config": {
    "python": {
     "delete_cmd_postfix": "",
     "delete_cmd_prefix": "del ",
     "library": "var_list.py",
     "varRefreshCmd": "print(var_dic_list())"
    },
    "r": {
     "delete_cmd_postfix": ") ",
     "delete_cmd_prefix": "rm(",
     "library": "var_list.r",
     "varRefreshCmd": "cat(var_dic_list()) "
    }
   },
   "types_to_exclude": [
    "module",
    "function",
    "builtin_function_or_method",
    "instance",
    "_Feature"
   ],
   "window_display": false
  }
 },
 "nbformat": 4,
 "nbformat_minor": 5
}
